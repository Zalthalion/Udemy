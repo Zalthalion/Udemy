{
 "cells": [
  {
   "cell_type": "code",
   "execution_count": 1,
   "metadata": {},
   "outputs": [],
   "source": [
    "import pandas as pd"
   ]
  },
  {
   "cell_type": "code",
   "execution_count": 2,
   "metadata": {},
   "outputs": [
    {
     "data": {
      "text/html": [
       "<div>\n",
       "<style scoped>\n",
       "    .dataframe tbody tr th:only-of-type {\n",
       "        vertical-align: middle;\n",
       "    }\n",
       "\n",
       "    .dataframe tbody tr th {\n",
       "        vertical-align: top;\n",
       "    }\n",
       "\n",
       "    .dataframe thead th {\n",
       "        text-align: right;\n",
       "    }\n",
       "</style>\n",
       "<table border=\"1\" class=\"dataframe\">\n",
       "  <thead>\n",
       "    <tr style=\"text-align: right;\">\n",
       "      <th></th>\n",
       "      <th>trip_id</th>\n",
       "      <th>usertype</th>\n",
       "      <th>gender</th>\n",
       "      <th>starttime</th>\n",
       "      <th>stoptime</th>\n",
       "      <th>tripduration</th>\n",
       "      <th>from_station_name</th>\n",
       "      <th>latitude_start</th>\n",
       "      <th>longitude_start</th>\n",
       "      <th>dpcapacity_start</th>\n",
       "      <th>to_station_name</th>\n",
       "      <th>latitude_end</th>\n",
       "      <th>longitude_end</th>\n",
       "      <th>dpcapacity_end</th>\n",
       "      <th>temperature</th>\n",
       "      <th>visibility</th>\n",
       "      <th>wind_speed</th>\n",
       "      <th>precipitation</th>\n",
       "      <th>events</th>\n",
       "    </tr>\n",
       "  </thead>\n",
       "  <tbody>\n",
       "    <tr>\n",
       "      <th>0</th>\n",
       "      <td>7147</td>\n",
       "      <td>Subscriber</td>\n",
       "      <td>Male</td>\n",
       "      <td>2013-06-28 19:01:00</td>\n",
       "      <td>2013-06-28 19:17:00</td>\n",
       "      <td>993</td>\n",
       "      <td>Lake Shore Dr &amp; Monroe St</td>\n",
       "      <td>41.881050</td>\n",
       "      <td>-87.616970</td>\n",
       "      <td>11.0</td>\n",
       "      <td>Michigan Ave &amp; Oak St</td>\n",
       "      <td>41.90096</td>\n",
       "      <td>-87.623777</td>\n",
       "      <td>15.0</td>\n",
       "      <td>73.9</td>\n",
       "      <td>10.0</td>\n",
       "      <td>12.7</td>\n",
       "      <td>-9999.0</td>\n",
       "      <td>mostlycloudy</td>\n",
       "    </tr>\n",
       "    <tr>\n",
       "      <th>1</th>\n",
       "      <td>7524</td>\n",
       "      <td>Subscriber</td>\n",
       "      <td>Male</td>\n",
       "      <td>2013-06-28 22:53:00</td>\n",
       "      <td>2013-06-28 23:03:00</td>\n",
       "      <td>623</td>\n",
       "      <td>Clinton St &amp; Washington Blvd</td>\n",
       "      <td>41.883380</td>\n",
       "      <td>-87.641170</td>\n",
       "      <td>31.0</td>\n",
       "      <td>Wells St &amp; Walton St</td>\n",
       "      <td>41.89993</td>\n",
       "      <td>-87.634430</td>\n",
       "      <td>19.0</td>\n",
       "      <td>69.1</td>\n",
       "      <td>10.0</td>\n",
       "      <td>6.9</td>\n",
       "      <td>-9999.0</td>\n",
       "      <td>partlycloudy</td>\n",
       "    </tr>\n",
       "    <tr>\n",
       "      <th>2</th>\n",
       "      <td>10927</td>\n",
       "      <td>Subscriber</td>\n",
       "      <td>Male</td>\n",
       "      <td>2013-06-30 14:43:00</td>\n",
       "      <td>2013-06-30 15:01:00</td>\n",
       "      <td>1040</td>\n",
       "      <td>Sheffield Ave &amp; Kingsbury St</td>\n",
       "      <td>41.909592</td>\n",
       "      <td>-87.653497</td>\n",
       "      <td>15.0</td>\n",
       "      <td>Dearborn St &amp; Monroe St</td>\n",
       "      <td>41.88132</td>\n",
       "      <td>-87.629521</td>\n",
       "      <td>23.0</td>\n",
       "      <td>73.0</td>\n",
       "      <td>10.0</td>\n",
       "      <td>16.1</td>\n",
       "      <td>-9999.0</td>\n",
       "      <td>mostlycloudy</td>\n",
       "    </tr>\n",
       "  </tbody>\n",
       "</table>\n",
       "</div>"
      ],
      "text/plain": [
       "   trip_id    usertype gender            starttime             stoptime  \\\n",
       "0     7147  Subscriber   Male  2013-06-28 19:01:00  2013-06-28 19:17:00   \n",
       "1     7524  Subscriber   Male  2013-06-28 22:53:00  2013-06-28 23:03:00   \n",
       "2    10927  Subscriber   Male  2013-06-30 14:43:00  2013-06-30 15:01:00   \n",
       "\n",
       "   tripduration             from_station_name  latitude_start  \\\n",
       "0           993     Lake Shore Dr & Monroe St       41.881050   \n",
       "1           623  Clinton St & Washington Blvd       41.883380   \n",
       "2          1040  Sheffield Ave & Kingsbury St       41.909592   \n",
       "\n",
       "   longitude_start  dpcapacity_start          to_station_name  latitude_end  \\\n",
       "0       -87.616970              11.0    Michigan Ave & Oak St      41.90096   \n",
       "1       -87.641170              31.0     Wells St & Walton St      41.89993   \n",
       "2       -87.653497              15.0  Dearborn St & Monroe St      41.88132   \n",
       "\n",
       "   longitude_end  dpcapacity_end  temperature  visibility  wind_speed  \\\n",
       "0     -87.623777            15.0         73.9        10.0        12.7   \n",
       "1     -87.634430            19.0         69.1        10.0         6.9   \n",
       "2     -87.629521            23.0         73.0        10.0        16.1   \n",
       "\n",
       "   precipitation        events  \n",
       "0        -9999.0  mostlycloudy  \n",
       "1        -9999.0  partlycloudy  \n",
       "2        -9999.0  mostlycloudy  "
      ]
     },
     "execution_count": 2,
     "metadata": {},
     "output_type": "execute_result"
    }
   ],
   "source": [
    "bikes = pd.read_csv('../data/bikes.csv')\n",
    "bikes.head(3)"
   ]
  },
  {
   "cell_type": "code",
   "execution_count": 3,
   "metadata": {},
   "outputs": [
    {
     "data": {
      "text/plain": [
       "0    False\n",
       "1    False\n",
       "2     True\n",
       "Name: tripduration, dtype: bool"
      ]
     },
     "execution_count": 3,
     "metadata": {},
     "output_type": "execute_result"
    }
   ],
   "source": [
    "filt = bikes['tripduration'] > 1000\n",
    "filt.head(3)"
   ]
  },
  {
   "cell_type": "code",
   "execution_count": 4,
   "metadata": {},
   "outputs": [
    {
     "data": {
      "text/plain": [
       "50089"
      ]
     },
     "execution_count": 4,
     "metadata": {},
     "output_type": "execute_result"
    }
   ],
   "source": [
    "len(filt)"
   ]
  },
  {
   "cell_type": "code",
   "execution_count": 5,
   "metadata": {},
   "outputs": [
    {
     "data": {
      "text/plain": [
       "50089"
      ]
     },
     "execution_count": 5,
     "metadata": {},
     "output_type": "execute_result"
    }
   ],
   "source": [
    "len(bikes)"
   ]
  },
  {
   "cell_type": "code",
   "execution_count": 6,
   "metadata": {},
   "outputs": [
    {
     "data": {
      "text/html": [
       "<div>\n",
       "<style scoped>\n",
       "    .dataframe tbody tr th:only-of-type {\n",
       "        vertical-align: middle;\n",
       "    }\n",
       "\n",
       "    .dataframe tbody tr th {\n",
       "        vertical-align: top;\n",
       "    }\n",
       "\n",
       "    .dataframe thead th {\n",
       "        text-align: right;\n",
       "    }\n",
       "</style>\n",
       "<table border=\"1\" class=\"dataframe\">\n",
       "  <thead>\n",
       "    <tr style=\"text-align: right;\">\n",
       "      <th></th>\n",
       "      <th>trip_id</th>\n",
       "      <th>usertype</th>\n",
       "      <th>gender</th>\n",
       "      <th>starttime</th>\n",
       "      <th>stoptime</th>\n",
       "      <th>tripduration</th>\n",
       "      <th>from_station_name</th>\n",
       "      <th>latitude_start</th>\n",
       "      <th>longitude_start</th>\n",
       "      <th>dpcapacity_start</th>\n",
       "      <th>to_station_name</th>\n",
       "      <th>latitude_end</th>\n",
       "      <th>longitude_end</th>\n",
       "      <th>dpcapacity_end</th>\n",
       "      <th>temperature</th>\n",
       "      <th>visibility</th>\n",
       "      <th>wind_speed</th>\n",
       "      <th>precipitation</th>\n",
       "      <th>events</th>\n",
       "    </tr>\n",
       "  </thead>\n",
       "  <tbody>\n",
       "    <tr>\n",
       "      <th>2</th>\n",
       "      <td>10927</td>\n",
       "      <td>Subscriber</td>\n",
       "      <td>Male</td>\n",
       "      <td>2013-06-30 14:43:00</td>\n",
       "      <td>2013-06-30 15:01:00</td>\n",
       "      <td>1040</td>\n",
       "      <td>Sheffield Ave &amp; Kingsbury St</td>\n",
       "      <td>41.909592</td>\n",
       "      <td>-87.653497</td>\n",
       "      <td>15.0</td>\n",
       "      <td>Dearborn St &amp; Monroe St</td>\n",
       "      <td>41.881320</td>\n",
       "      <td>-87.629521</td>\n",
       "      <td>23.0</td>\n",
       "      <td>73.0</td>\n",
       "      <td>10.0</td>\n",
       "      <td>16.1</td>\n",
       "      <td>-9999.0</td>\n",
       "      <td>mostlycloudy</td>\n",
       "    </tr>\n",
       "    <tr>\n",
       "      <th>8</th>\n",
       "      <td>21028</td>\n",
       "      <td>Subscriber</td>\n",
       "      <td>Male</td>\n",
       "      <td>2013-07-03 15:21:00</td>\n",
       "      <td>2013-07-03 15:42:00</td>\n",
       "      <td>1300</td>\n",
       "      <td>Clinton St &amp; Washington Blvd</td>\n",
       "      <td>41.883380</td>\n",
       "      <td>-87.641170</td>\n",
       "      <td>31.0</td>\n",
       "      <td>Wood St &amp; Division St</td>\n",
       "      <td>41.903320</td>\n",
       "      <td>-87.672730</td>\n",
       "      <td>15.0</td>\n",
       "      <td>71.1</td>\n",
       "      <td>8.0</td>\n",
       "      <td>0.0</td>\n",
       "      <td>-9999.0</td>\n",
       "      <td>cloudy</td>\n",
       "    </tr>\n",
       "    <tr>\n",
       "      <th>10</th>\n",
       "      <td>24383</td>\n",
       "      <td>Subscriber</td>\n",
       "      <td>Male</td>\n",
       "      <td>2013-07-04 17:17:00</td>\n",
       "      <td>2013-07-04 17:42:00</td>\n",
       "      <td>1523</td>\n",
       "      <td>Morgan St &amp; 18th St</td>\n",
       "      <td>41.858086</td>\n",
       "      <td>-87.651073</td>\n",
       "      <td>15.0</td>\n",
       "      <td>Damen Ave &amp; Pierce Ave</td>\n",
       "      <td>41.909396</td>\n",
       "      <td>-87.677692</td>\n",
       "      <td>19.0</td>\n",
       "      <td>79.0</td>\n",
       "      <td>10.0</td>\n",
       "      <td>9.2</td>\n",
       "      <td>-9999.0</td>\n",
       "      <td>mostlycloudy</td>\n",
       "    </tr>\n",
       "  </tbody>\n",
       "</table>\n",
       "</div>"
      ],
      "text/plain": [
       "    trip_id    usertype gender            starttime             stoptime  \\\n",
       "2     10927  Subscriber   Male  2013-06-30 14:43:00  2013-06-30 15:01:00   \n",
       "8     21028  Subscriber   Male  2013-07-03 15:21:00  2013-07-03 15:42:00   \n",
       "10    24383  Subscriber   Male  2013-07-04 17:17:00  2013-07-04 17:42:00   \n",
       "\n",
       "    tripduration             from_station_name  latitude_start  \\\n",
       "2           1040  Sheffield Ave & Kingsbury St       41.909592   \n",
       "8           1300  Clinton St & Washington Blvd       41.883380   \n",
       "10          1523           Morgan St & 18th St       41.858086   \n",
       "\n",
       "    longitude_start  dpcapacity_start          to_station_name  latitude_end  \\\n",
       "2        -87.653497              15.0  Dearborn St & Monroe St     41.881320   \n",
       "8        -87.641170              31.0    Wood St & Division St     41.903320   \n",
       "10       -87.651073              15.0   Damen Ave & Pierce Ave     41.909396   \n",
       "\n",
       "    longitude_end  dpcapacity_end  temperature  visibility  wind_speed  \\\n",
       "2      -87.629521            23.0         73.0        10.0        16.1   \n",
       "8      -87.672730            15.0         71.1         8.0         0.0   \n",
       "10     -87.677692            19.0         79.0        10.0         9.2   \n",
       "\n",
       "    precipitation        events  \n",
       "2         -9999.0  mostlycloudy  \n",
       "8         -9999.0        cloudy  \n",
       "10        -9999.0  mostlycloudy  "
      ]
     },
     "execution_count": 6,
     "metadata": {},
     "output_type": "execute_result"
    }
   ],
   "source": [
    "bikes[filt].head(3)"
   ]
  },
  {
   "cell_type": "code",
   "execution_count": 7,
   "metadata": {},
   "outputs": [],
   "source": [
    "bikes_duration_1000 = bikes[filt]"
   ]
  },
  {
   "cell_type": "markdown",
   "metadata": {},
   "source": [
    "Let's find the number of rows in each DataFrame."
   ]
  },
  {
   "cell_type": "code",
   "execution_count": 8,
   "metadata": {},
   "outputs": [
    {
     "data": {
      "text/plain": [
       "50089"
      ]
     },
     "execution_count": 8,
     "metadata": {},
     "output_type": "execute_result"
    }
   ],
   "source": [
    "len(bikes)"
   ]
  },
  {
   "cell_type": "code",
   "execution_count": 9,
   "metadata": {},
   "outputs": [
    {
     "data": {
      "text/plain": [
       "10178"
      ]
     },
     "execution_count": 9,
     "metadata": {},
     "output_type": "execute_result"
    }
   ],
   "source": [
    "len(bikes_duration_1000)"
   ]
  },
  {
   "cell_type": "markdown",
   "metadata": {},
   "source": [
    "We compute that 20% of the rides are longer than 1,000 seconds."
   ]
  },
  {
   "cell_type": "code",
   "execution_count": 10,
   "metadata": {},
   "outputs": [
    {
     "data": {
      "text/plain": [
       "0.20319830701351593"
      ]
     },
     "execution_count": 10,
     "metadata": {},
     "output_type": "execute_result"
    }
   ],
   "source": [
    "len(bikes_duration_1000) / len(bikes)"
   ]
  },
  {
   "cell_type": "markdown",
   "metadata": {},
   "source": [
    "## Exercises\n",
    "\n",
    "### Exercise 1\n",
    "<span  style=\"color:green; font-size:16px\">Read in the movie dataset and set the index to be the title. Select all movies that have Tom Hanks as `actor1`. How many of these movies has he starred in?</span>"
   ]
  },
  {
   "cell_type": "code",
   "execution_count": 14,
   "metadata": {},
   "outputs": [
    {
     "data": {
      "text/plain": [
       "24"
      ]
     },
     "execution_count": 14,
     "metadata": {},
     "output_type": "execute_result"
    }
   ],
   "source": [
    "movies = pd.read_csv('../data/movie.csv', index_col='title')\n",
    "filt = movies['actor1'] == 'Tom Hanks'\n",
    "filtered = movies[filt]\n",
    "len(filtered)"
   ]
  },
  {
   "cell_type": "markdown",
   "metadata": {},
   "source": [
    "### Exercise 2\n",
    "<span  style=\"color:green; font-size:16px\">Select movies with an IMDB score greater than 9.</span>"
   ]
  },
  {
   "cell_type": "code",
   "execution_count": 15,
   "metadata": {},
   "outputs": [
    {
     "data": {
      "text/html": [
       "<div>\n",
       "<style scoped>\n",
       "    .dataframe tbody tr th:only-of-type {\n",
       "        vertical-align: middle;\n",
       "    }\n",
       "\n",
       "    .dataframe tbody tr th {\n",
       "        vertical-align: top;\n",
       "    }\n",
       "\n",
       "    .dataframe thead th {\n",
       "        text-align: right;\n",
       "    }\n",
       "</style>\n",
       "<table border=\"1\" class=\"dataframe\">\n",
       "  <thead>\n",
       "    <tr style=\"text-align: right;\">\n",
       "      <th></th>\n",
       "      <th>year</th>\n",
       "      <th>color</th>\n",
       "      <th>content_rating</th>\n",
       "      <th>duration</th>\n",
       "      <th>director_name</th>\n",
       "      <th>director_fb</th>\n",
       "      <th>actor1</th>\n",
       "      <th>actor1_fb</th>\n",
       "      <th>actor2</th>\n",
       "      <th>actor2_fb</th>\n",
       "      <th>...</th>\n",
       "      <th>actor3_fb</th>\n",
       "      <th>gross</th>\n",
       "      <th>genres</th>\n",
       "      <th>num_reviews</th>\n",
       "      <th>num_voted_users</th>\n",
       "      <th>plot_keywords</th>\n",
       "      <th>language</th>\n",
       "      <th>country</th>\n",
       "      <th>budget</th>\n",
       "      <th>imdb_score</th>\n",
       "    </tr>\n",
       "    <tr>\n",
       "      <th>title</th>\n",
       "      <th></th>\n",
       "      <th></th>\n",
       "      <th></th>\n",
       "      <th></th>\n",
       "      <th></th>\n",
       "      <th></th>\n",
       "      <th></th>\n",
       "      <th></th>\n",
       "      <th></th>\n",
       "      <th></th>\n",
       "      <th></th>\n",
       "      <th></th>\n",
       "      <th></th>\n",
       "      <th></th>\n",
       "      <th></th>\n",
       "      <th></th>\n",
       "      <th></th>\n",
       "      <th></th>\n",
       "      <th></th>\n",
       "      <th></th>\n",
       "      <th></th>\n",
       "    </tr>\n",
       "  </thead>\n",
       "  <tbody>\n",
       "    <tr>\n",
       "      <th>The Shawshank Redemption</th>\n",
       "      <td>1994.0</td>\n",
       "      <td>Color</td>\n",
       "      <td>R</td>\n",
       "      <td>142.0</td>\n",
       "      <td>Frank Darabont</td>\n",
       "      <td>0.0</td>\n",
       "      <td>Morgan Freeman</td>\n",
       "      <td>11000.0</td>\n",
       "      <td>Jeffrey DeMunn</td>\n",
       "      <td>745.0</td>\n",
       "      <td>...</td>\n",
       "      <td>461.0</td>\n",
       "      <td>28341469.0</td>\n",
       "      <td>Crime|Drama</td>\n",
       "      <td>199.0</td>\n",
       "      <td>1689764</td>\n",
       "      <td>escape from prison|first person narration|pris...</td>\n",
       "      <td>English</td>\n",
       "      <td>USA</td>\n",
       "      <td>25000000.0</td>\n",
       "      <td>9.3</td>\n",
       "    </tr>\n",
       "    <tr>\n",
       "      <th>Towering Inferno</th>\n",
       "      <td>NaN</td>\n",
       "      <td>Color</td>\n",
       "      <td>NaN</td>\n",
       "      <td>65.0</td>\n",
       "      <td>John Blanchard</td>\n",
       "      <td>0.0</td>\n",
       "      <td>Martin Short</td>\n",
       "      <td>770.0</td>\n",
       "      <td>Andrea Martin</td>\n",
       "      <td>179.0</td>\n",
       "      <td>...</td>\n",
       "      <td>176.0</td>\n",
       "      <td>NaN</td>\n",
       "      <td>Comedy</td>\n",
       "      <td>NaN</td>\n",
       "      <td>10</td>\n",
       "      <td>NaN</td>\n",
       "      <td>English</td>\n",
       "      <td>Canada</td>\n",
       "      <td>NaN</td>\n",
       "      <td>9.5</td>\n",
       "    </tr>\n",
       "    <tr>\n",
       "      <th>Dekalog</th>\n",
       "      <td>NaN</td>\n",
       "      <td>Color</td>\n",
       "      <td>TV-MA</td>\n",
       "      <td>55.0</td>\n",
       "      <td>NaN</td>\n",
       "      <td>NaN</td>\n",
       "      <td>Krystyna Janda</td>\n",
       "      <td>20.0</td>\n",
       "      <td>Olaf Lubaszenko</td>\n",
       "      <td>3.0</td>\n",
       "      <td>...</td>\n",
       "      <td>2.0</td>\n",
       "      <td>447093.0</td>\n",
       "      <td>Drama</td>\n",
       "      <td>53.0</td>\n",
       "      <td>12590</td>\n",
       "      <td>meaning of life|moral challenge|morality|searc...</td>\n",
       "      <td>Polish</td>\n",
       "      <td>Poland</td>\n",
       "      <td>NaN</td>\n",
       "      <td>9.1</td>\n",
       "    </tr>\n",
       "    <tr>\n",
       "      <th>The Godfather</th>\n",
       "      <td>1972.0</td>\n",
       "      <td>Color</td>\n",
       "      <td>R</td>\n",
       "      <td>175.0</td>\n",
       "      <td>Francis Ford Coppola</td>\n",
       "      <td>0.0</td>\n",
       "      <td>Al Pacino</td>\n",
       "      <td>14000.0</td>\n",
       "      <td>Marlon Brando</td>\n",
       "      <td>10000.0</td>\n",
       "      <td>...</td>\n",
       "      <td>3000.0</td>\n",
       "      <td>134821952.0</td>\n",
       "      <td>Crime|Drama</td>\n",
       "      <td>208.0</td>\n",
       "      <td>1155770</td>\n",
       "      <td>crime family|mafia|organized crime|patriarch|r...</td>\n",
       "      <td>English</td>\n",
       "      <td>USA</td>\n",
       "      <td>6000000.0</td>\n",
       "      <td>9.2</td>\n",
       "    </tr>\n",
       "    <tr>\n",
       "      <th>Kickboxer: Vengeance</th>\n",
       "      <td>2016.0</td>\n",
       "      <td>NaN</td>\n",
       "      <td>NaN</td>\n",
       "      <td>90.0</td>\n",
       "      <td>John Stockwell</td>\n",
       "      <td>134.0</td>\n",
       "      <td>Matthew Ziff</td>\n",
       "      <td>260000.0</td>\n",
       "      <td>T.J. Storm</td>\n",
       "      <td>454.0</td>\n",
       "      <td>...</td>\n",
       "      <td>354.0</td>\n",
       "      <td>NaN</td>\n",
       "      <td>Action</td>\n",
       "      <td>2.0</td>\n",
       "      <td>246</td>\n",
       "      <td>NaN</td>\n",
       "      <td>NaN</td>\n",
       "      <td>USA</td>\n",
       "      <td>17000000.0</td>\n",
       "      <td>9.1</td>\n",
       "    </tr>\n",
       "  </tbody>\n",
       "</table>\n",
       "<p>5 rows × 21 columns</p>\n",
       "</div>"
      ],
      "text/plain": [
       "                            year  color content_rating  duration  \\\n",
       "title                                                              \n",
       "The Shawshank Redemption  1994.0  Color              R     142.0   \n",
       "Towering Inferno             NaN  Color            NaN      65.0   \n",
       "Dekalog                      NaN  Color          TV-MA      55.0   \n",
       "The Godfather             1972.0  Color              R     175.0   \n",
       "Kickboxer: Vengeance      2016.0    NaN            NaN      90.0   \n",
       "\n",
       "                                 director_name  director_fb          actor1  \\\n",
       "title                                                                         \n",
       "The Shawshank Redemption        Frank Darabont          0.0  Morgan Freeman   \n",
       "Towering Inferno                John Blanchard          0.0    Martin Short   \n",
       "Dekalog                                    NaN          NaN  Krystyna Janda   \n",
       "The Godfather             Francis Ford Coppola          0.0       Al Pacino   \n",
       "Kickboxer: Vengeance            John Stockwell        134.0    Matthew Ziff   \n",
       "\n",
       "                          actor1_fb           actor2  actor2_fb  ...  \\\n",
       "title                                                            ...   \n",
       "The Shawshank Redemption    11000.0   Jeffrey DeMunn      745.0  ...   \n",
       "Towering Inferno              770.0    Andrea Martin      179.0  ...   \n",
       "Dekalog                        20.0  Olaf Lubaszenko        3.0  ...   \n",
       "The Godfather               14000.0    Marlon Brando    10000.0  ...   \n",
       "Kickboxer: Vengeance       260000.0       T.J. Storm      454.0  ...   \n",
       "\n",
       "                         actor3_fb        gross       genres num_reviews  \\\n",
       "title                                                                      \n",
       "The Shawshank Redemption     461.0   28341469.0  Crime|Drama       199.0   \n",
       "Towering Inferno             176.0          NaN       Comedy         NaN   \n",
       "Dekalog                        2.0     447093.0        Drama        53.0   \n",
       "The Godfather               3000.0  134821952.0  Crime|Drama       208.0   \n",
       "Kickboxer: Vengeance         354.0          NaN       Action         2.0   \n",
       "\n",
       "                          num_voted_users  \\\n",
       "title                                       \n",
       "The Shawshank Redemption          1689764   \n",
       "Towering Inferno                       10   \n",
       "Dekalog                             12590   \n",
       "The Godfather                     1155770   \n",
       "Kickboxer: Vengeance                  246   \n",
       "\n",
       "                                                              plot_keywords  \\\n",
       "title                                                                         \n",
       "The Shawshank Redemption  escape from prison|first person narration|pris...   \n",
       "Towering Inferno                                                        NaN   \n",
       "Dekalog                   meaning of life|moral challenge|morality|searc...   \n",
       "The Godfather             crime family|mafia|organized crime|patriarch|r...   \n",
       "Kickboxer: Vengeance                                                    NaN   \n",
       "\n",
       "                         language country      budget  imdb_score  \n",
       "title                                                              \n",
       "The Shawshank Redemption  English     USA  25000000.0         9.3  \n",
       "Towering Inferno          English  Canada         NaN         9.5  \n",
       "Dekalog                    Polish  Poland         NaN         9.1  \n",
       "The Godfather             English     USA   6000000.0         9.2  \n",
       "Kickboxer: Vengeance          NaN     USA  17000000.0         9.1  \n",
       "\n",
       "[5 rows x 21 columns]"
      ]
     },
     "execution_count": 15,
     "metadata": {},
     "output_type": "execute_result"
    }
   ],
   "source": [
    "imdb = movies['imdb_score'] > 9\n",
    "filtered = movies[imdb]\n",
    "filtered.head()"
   ]
  },
  {
   "cell_type": "markdown",
   "metadata": {},
   "source": [
    "### Exercise 3\n",
    "<span  style=\"color:green; font-size:16px\">Write a function that accepts a single parameter to find the number of movies for a given content rating. Use the function to find the number of movies for ratings 'R', 'PG-13', and 'PG'.</span>"
   ]
  },
  {
   "cell_type": "code",
   "execution_count": 16,
   "metadata": {},
   "outputs": [],
   "source": [
    "def count_rating(rating):\n",
    "    filt = movies['content_rating'] == rating\n",
    "    count = len(movies[filt])\n",
    "    return f'There are {count} movies rated {rating}'"
   ]
  },
  {
   "cell_type": "code",
   "execution_count": 17,
   "metadata": {},
   "outputs": [
    {
     "data": {
      "text/plain": [
       "'There are 2067 movies rated R'"
      ]
     },
     "execution_count": 17,
     "metadata": {},
     "output_type": "execute_result"
    }
   ],
   "source": [
    "count_rating('R')"
   ]
  },
  {
   "cell_type": "code",
   "execution_count": 18,
   "metadata": {},
   "outputs": [
    {
     "data": {
      "text/plain": [
       "'There are 1411 movies rated PG-13'"
      ]
     },
     "execution_count": 18,
     "metadata": {},
     "output_type": "execute_result"
    }
   ],
   "source": [
    "count_rating('PG-13')"
   ]
  },
  {
   "cell_type": "code",
   "execution_count": 19,
   "metadata": {},
   "outputs": [
    {
     "data": {
      "text/plain": [
       "'There are 686 movies rated PG'"
      ]
     },
     "execution_count": 19,
     "metadata": {},
     "output_type": "execute_result"
    }
   ],
   "source": [
    "count_rating('PG')"
   ]
  }
 ],
 "metadata": {
  "kernelspec": {
   "display_name": "Python 3",
   "language": "python",
   "name": "python3"
  },
  "language_info": {
   "codemirror_mode": {
    "name": "ipython",
    "version": 3
   },
   "file_extension": ".py",
   "mimetype": "text/x-python",
   "name": "python",
   "nbconvert_exporter": "python",
   "pygments_lexer": "ipython3",
   "version": "3.10.0"
  },
  "varInspector": {
   "cols": {
    "lenName": 16,
    "lenType": 16,
    "lenVar": 40
   },
   "kernels_config": {
    "python": {
     "delete_cmd_postfix": "",
     "delete_cmd_prefix": "del ",
     "library": "var_list.py",
     "varRefreshCmd": "print(var_dic_list())"
    },
    "r": {
     "delete_cmd_postfix": ") ",
     "delete_cmd_prefix": "rm(",
     "library": "var_list.r",
     "varRefreshCmd": "cat(var_dic_list()) "
    }
   },
   "types_to_exclude": [
    "module",
    "function",
    "builtin_function_or_method",
    "instance",
    "_Feature"
   ],
   "window_display": false
  }
 },
 "nbformat": 4,
 "nbformat_minor": 2
}
