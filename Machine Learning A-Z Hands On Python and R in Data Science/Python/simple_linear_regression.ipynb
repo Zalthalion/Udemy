{
  "nbformat": 4,
  "nbformat_minor": 2,
  "metadata": {
    "colab": {
      "name": "Copy of simple_linear_regression.ipynb",
      "provenance": [],
      "toc_visible": true,
      "include_colab_link": true
    },
    "kernelspec": {
      "name": "python3",
      "display_name": "Python 3.9.6 64-bit"
    },
    "language_info": {
      "name": "python",
      "version": "3.9.6",
      "mimetype": "text/x-python",
      "codemirror_mode": {
        "name": "ipython",
        "version": 3
      },
      "pygments_lexer": "ipython3",
      "nbconvert_exporter": "python",
      "file_extension": ".py"
    },
    "interpreter": {
      "hash": "076864d97661b6a50c57c47bf326fff558189f6e45032ca785e949f485c7a8bd"
    }
  },
  "cells": [
    {
      "cell_type": "markdown",
      "source": [
        "<a href=\"https://colab.research.google.com/github/Zalthalion/Udemy/blob/main/Copy_of_simple_linear_regression.ipynb\" target=\"_parent\"><img src=\"https://colab.research.google.com/assets/colab-badge.svg\" alt=\"Open In Colab\"/></a>"
      ],
      "metadata": {
        "id": "view-in-github",
        "colab_type": "text"
      }
    },
    {
      "cell_type": "markdown",
      "source": [
        "# Simple Linear Regression"
      ],
      "metadata": {
        "id": "l_LulNCC8z96"
      }
    },
    {
      "cell_type": "markdown",
      "source": [
        "## Importing the libraries"
      ],
      "metadata": {
        "id": "xpXdowrE9DxW"
      }
    },
    {
      "cell_type": "code",
      "execution_count": 1,
      "source": [
        "import numpy as np\r\n",
        "import pandas as pd\r\n",
        "import matplotlib.pyplot as plt"
      ],
      "outputs": [],
      "metadata": {}
    },
    {
      "cell_type": "markdown",
      "source": [
        "## Importing the dataset"
      ],
      "metadata": {
        "id": "6JhpWJi59J1p"
      }
    },
    {
      "cell_type": "code",
      "execution_count": 2,
      "source": [
        "dataset = pd.read_csv('Salary_Data.csv')\r\n",
        "x = dataset.iloc[:, :-1].values \r\n",
        "y = dataset.iloc[:, -1].values"
      ],
      "outputs": [],
      "metadata": {}
    },
    {
      "cell_type": "markdown",
      "source": [
        "## Splitting the dataset into the Training set and Test set"
      ],
      "metadata": {
        "id": "AyhQaTwP9RzG"
      }
    },
    {
      "cell_type": "code",
      "execution_count": 3,
      "source": [
        "from sklearn.model_selection import train_test_split\r\n",
        "#80% goes to training set and 20% goes to test set\r\n",
        "x_train, x_test, y_train, y_test = train_test_split(x, y, test_size = 0.2, random_state=1)"
      ],
      "outputs": [],
      "metadata": {}
    },
    {
      "cell_type": "markdown",
      "source": [
        "## Training the Simple Linear Regression model on the Training set"
      ],
      "metadata": {
        "id": "ZijQwFMQ9itx"
      }
    },
    {
      "cell_type": "code",
      "execution_count": 4,
      "source": [
        "from sklearn.linear_model import LinearRegression\r\n",
        "\r\n",
        "lr = LinearRegression()\r\n",
        "\r\n",
        "lr.fit(x_train, y_train)\r\n"
      ],
      "outputs": [
        {
          "output_type": "execute_result",
          "data": {
            "text/plain": [
              "LinearRegression()"
            ]
          },
          "metadata": {},
          "execution_count": 4
        }
      ],
      "metadata": {}
    },
    {
      "cell_type": "markdown",
      "source": [
        "## Predicting the Test set results"
      ],
      "metadata": {
        "id": "wa2T1Lq89o5H"
      }
    },
    {
      "cell_type": "code",
      "execution_count": 5,
      "source": [
        "y_pred = lr.predict(x_test)"
      ],
      "outputs": [],
      "metadata": {}
    },
    {
      "cell_type": "markdown",
      "source": [
        "## Visualising the Training set results"
      ],
      "metadata": {
        "id": "-zSoMZ-P9v8t"
      }
    },
    {
      "cell_type": "code",
      "execution_count": 6,
      "source": [
        "plt.scatter(x_train, y_train, color = 'red')\r\n",
        "plt.plot(x_train, lr.predict(x_train), color = 'blue')\r\n",
        "plt.title('Salary vs Experience (training)')\r\n",
        "plt.xlabel('years of experience')\r\n",
        "plt.ylabel('salary')\r\n",
        "plt.show()"
      ],
      "outputs": [
        {
          "output_type": "display_data",
          "data": {
            "image/png": "[encoded data removed]",
            "text/plain": [
              "<Figure size 432x288 with 1 Axes>"
            ]
          },
          "metadata": {
            "needs_background": "light"
          }
        }
      ],
      "metadata": {}
    },
    {
      "cell_type": "markdown",
      "source": [
        "## Visualising the Test set results"
      ],
      "metadata": {
        "id": "EUX1Vhsv97ZT"
      }
    },
    {
      "cell_type": "code",
      "execution_count": 7,
      "source": [
        "plt.scatter(x_test, y_test, color = 'red')\r\n",
        "plt.plot(x_train, lr.predict(x_train), color = 'blue')\r\n",
        "plt.title('Salary vs Experience (test)')\r\n",
        "plt.xlabel('years of experience')\r\n",
        "plt.ylabel('salary')\r\n",
        "plt.show()"
      ],
      "outputs": [
        {
          "output_type": "display_data",
          "data": {
            "image/png": "[encoded data removed]",
            "text/plain": [
              "<Figure size 432x288 with 1 Axes>"
            ]
          },
          "metadata": {
            "needs_background": "light"
          }
        }
      ],
      "metadata": {}
    }
  ]
}